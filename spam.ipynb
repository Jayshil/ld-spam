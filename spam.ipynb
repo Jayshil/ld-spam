{
 "cells": [
  {
   "cell_type": "markdown",
   "source": [
    "# Using SPAM algorithm to generate LDCs\n",
    "\n",
    "SPAM, which stands for Synthetic-Photometry/Atmosphere-Model, is an algorith to generate limb darkening coefficients from synthetic exoplanet transit photometry using model stellar atmospheres."
   ],
   "metadata": {}
  },
  {
   "cell_type": "markdown",
   "source": [],
   "metadata": {}
  }
 ],
 "metadata": {
  "orig_nbformat": 4,
  "language_info": {
   "name": "python",
   "version": "3.8.8"
  },
  "kernelspec": {
   "name": "python3",
   "display_name": "Python 3.8.8 64-bit ('base': conda)"
  },
  "interpreter": {
   "hash": "77308f10e778eec9a13a21206849a589a8c13410aaae2405e5051cd249c67e86"
  }
 },
 "nbformat": 4,
 "nbformat_minor": 2
}