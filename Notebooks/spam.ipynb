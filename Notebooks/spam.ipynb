{
 "cells": [
  {
   "cell_type": "markdown",
   "source": [
    "# Using SPAM algorithm to generate LDCs\n",
    "\n",
    "SPAM, which stands for Synthetic-Photometry/Atmosphere-Model, is an algorith to generate limb darkening coefficients from synthetic exoplanet transit photometry using model stellar atmospheres. The model originally presented in [Howarth (2011)](https://academic.oup.com/mnras/article/418/2/1165/1071889) and modified in [Espinoza & Jordan (2015)](https://academic.oup.com/mnras/article/450/2/1879/985166); we, here, used the modified version of the same code from [Espinoza & Jordan (2015)](https://academic.oup.com/mnras/article/450/2/1879/985166), named as MC-SPAM (stands for Monte-Carlo SPAM algorithm). The main difference between both versions in that the later deals with the uncertainties in the transit parameters.\n",
    "\n",
    "A prime motivation behind the algorithm is to provide a proper set of limb darkening coefficients which can be used in comparison with the ones derived from the transit photometry. Most of the tables that provide computed set of the limb-darkening coefficients fit intensity profile from model stellar atmospheres to the limb-darkening laws to find the LDCs."
   ],
   "metadata": {}
  },
  {
   "cell_type": "markdown",
   "source": [],
   "metadata": {}
  }
 ],
 "metadata": {
  "orig_nbformat": 4,
  "language_info": {
   "name": "python",
   "version": "3.8.8"
  },
  "kernelspec": {
   "name": "python3",
   "display_name": "Python 3.8.8 64-bit ('base': conda)"
  },
  "interpreter": {
   "hash": "77308f10e778eec9a13a21206849a589a8c13410aaae2405e5051cd249c67e86"
  }
 },
 "nbformat": 4,
 "nbformat_minor": 2
}